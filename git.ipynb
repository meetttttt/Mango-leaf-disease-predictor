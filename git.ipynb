{
 "cells": [
  {
   "cell_type": "markdown",
   "id": "640ce383",
   "metadata": {},
   "source": [
    "# The below code will clone the yolov5 into our directory "
   ]
  },
  {
   "cell_type": "code",
   "execution_count": null,
   "id": "81bceea2",
   "metadata": {},
   "outputs": [],
   "source": [
    "!git clone https://github.com/ultralytics/yolov5.git"
   ]
  },
  {
   "cell_type": "markdown",
   "id": "ca8ab92f",
   "metadata": {},
   "source": [
    "# The below code will install all the dependencies needed by yolov5 "
   ]
  },
  {
   "cell_type": "code",
   "execution_count": null,
   "id": "062d735f",
   "metadata": {},
   "outputs": [],
   "source": [
    "!pip install -qr yolov5/requirements.txt"
   ]
  }
 ],
 "metadata": {
  "kernelspec": {
   "display_name": "Python 3 (ipykernel)",
   "language": "python",
   "name": "python3"
  },
  "language_info": {
   "codemirror_mode": {
    "name": "ipython",
    "version": 3
   },
   "file_extension": ".py",
   "mimetype": "text/x-python",
   "name": "python",
   "nbconvert_exporter": "python",
   "pygments_lexer": "ipython3",
   "version": "3.9.7"
  }
 },
 "nbformat": 4,
 "nbformat_minor": 5
}
